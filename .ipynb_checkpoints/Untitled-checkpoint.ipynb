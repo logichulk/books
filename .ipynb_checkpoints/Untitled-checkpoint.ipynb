{
 "cells": [
  {
   "cell_type": "code",
   "execution_count": null,
   "metadata": {
    "collapsed": true
   },
   "outputs": [],
   "source": [
    "import matplotlib.pyplot as plt\n",
    "import numpy as np\n",
    "from matplotlib import cm\n",
    "import matplotlib as mpl\n",
    "\n",
    "fig = plt.figure()\n",
    "\n",
    "display_axes = fig.add_axes([0.1,0.1,0.8,0.8], projection='polar')\n",
    "display_axes._direction = 2*np.pi ## This is a nasty hack - using the hidden field to \n",
    "                                  ## multiply the values such that 1 become 2*pi\n",
    "                                  ## this field is supposed to take values 1 or -1 only!!\n",
    "\n",
    "norm = mpl.colors.Normalize(0.0, 2*np.pi)\n",
    "\n",
    "# Plot the colorbar onto the polar axis\n",
    "# note - use orientation horizontal so that the gradient goes around\n",
    "# the wheel rather than centre out\n",
    "quant_steps = 2056\n",
    "cb = mpl.colorbar.ColorbarBase(display_axes, cmap=cm.get_cmap('hsv',quant_steps),\n",
    "                                   norm=norm,\n",
    "                                   orientation='horizontal')\n",
    "\n",
    "# aesthetics - get rid of border and axis labels                                   \n",
    "cb.outline.set_visible(False)                                 \n",
    "display_axes.set_axis_off()\n",
    "plt.show() # Replace with plt.savefig if you want to save a file"
   ]
  }
 ],
 "metadata": {
  "kernelspec": {
   "display_name": "Python 3",
   "language": "python",
   "name": "python3"
  }
 },
 "nbformat": 4,
 "nbformat_minor": 2
}
